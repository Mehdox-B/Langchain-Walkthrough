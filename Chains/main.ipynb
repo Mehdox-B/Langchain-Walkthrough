{
 "cells": [
  {
   "cell_type": "markdown",
   "metadata": {
    "vscode": {
     "languageId": "bat"
    }
   },
   "source": [
    "# Chains in LangChain\n",
    "\n",
    "Chains are easily reusable components linked together.\n",
    "\n",
    "Chains encode a sequence of calls to components like models, document retrievers, other Chains, etc., and provide a simple interface to this sequence.\n",
    "\n",
    "The Chain interface makes it easy to create apps that are:\n",
    "\n",
    "* Stateful: add Memory to any Chain to give it state,\n",
    "\n",
    "* Observable: pass Callbacks to a Chain to execute additional functionality, like logging, outside the main sequence of component calls,\n",
    "\n",
    "* Composable: combine Chains with other components, including other Chains.\n",
    "\n",
    "## Outline\n",
    "\n",
    "* LLMChain\n",
    "* Sequential Chains\n",
    "  * SimpleSequentialChain\n",
    "  * SequentialChain\n",
    "* Router Chain"
   ]
  },
  {
   "cell_type": "code",
   "execution_count": 67,
   "metadata": {},
   "outputs": [],
   "source": [
    "## Load you env variables\n",
    "import os\n",
    "from dotenv import load_dotenv,find_dotenv\n",
    "import openai\n",
    "import anthropic\n",
    "from anthropic import Anthropic\n",
    "\n",
    "_ = load_dotenv(find_dotenv(filename='.env'))"
   ]
  },
  {
   "cell_type": "code",
   "execution_count": null,
   "metadata": {},
   "outputs": [],
   "source": [
    "## Import Pandas Library\n",
    "import pandas as pd\n",
    "\n",
    "## read the cv file from Data folder\n",
    "projectData = pd.read_csv('./Your_CSV_Data_File')\n",
    "projectData.head()"
   ]
  },
  {
   "cell_type": "code",
   "execution_count": null,
   "metadata": {},
   "outputs": [
    {
     "name": "stderr",
     "output_type": "stream",
     "text": [
      "WARNING! token is not default parameter.\n",
      "                    token was transferred to model_kwargs.\n",
      "                    Please make sure that token is what you intended.\n",
      "WARNING! add_to_git_credential is not default parameter.\n",
      "                    add_to_git_credential was transferred to model_kwargs.\n",
      "                    Please make sure that add_to_git_credential is what you intended.\n"
     ]
    },
    {
     "name": "stdout",
     "output_type": "stream",
     "text": [
      "The token has not been saved to the git credentials helper. Pass `add_to_git_credential=True` in this function directly or `--add-to-git-credential` if using via `huggingface-cli` if you want to set the git credential as well.\n",
      "Token is valid (permission: write).\n",
      "Your token has been saved to C:\\Users\\mehdi\\.cache\\huggingface\\token\n",
      "Login successful\n"
     ]
    }
   ],
   "source": [
    "## Import necessary Langchain's components to interact with the projectData\n",
    "from langchain_community.llms import HuggingFaceEndpoint\n",
    "from langchain.prompts import  ChatPromptTemplate\n",
    "from langchain.chains import LLMChain\n",
    "from langchain_openai import ChatOpenAI\n",
    "\n",
    "HUGGINGFACEHUB_API_TOKEN = os.getenv(\"HUGGINGFACEHUB_API_TOKEN\")\n",
    "\n",
    "openai_llm_model = ChatOpenAI(\n",
    "    model=\"gpt-3.5-turbo\",\n",
    "    api_key=os.getenv(\"OPENAI_API_KEY\"),\n",
    "    temperature=0.2,\n",
    "    max_tokens=1024\n",
    ")\n",
    "\n",
    "microsoft_phi3_model = HuggingFaceEndpoint(\n",
    "    repo_id = \"microsoft/Phi-3-mini-4k-instruct\",\n",
    "    temperature=0.5,\n",
    "    token=HUGGINGFACEHUB_API_TOKEN,\n",
    "    add_to_git_credential=True\n",
    ")\n"
   ]
  },
  {
   "cell_type": "markdown",
   "metadata": {},
   "source": [
    "## LLMChain"
   ]
  },
  {
   "cell_type": "code",
   "execution_count": null,
   "metadata": {},
   "outputs": [
    {
     "name": "stderr",
     "output_type": "stream",
     "text": [
      "c:\\Users\\mehdi\\anaconda3\\envs\\langchain-tuto\\lib\\site-packages\\langchain_core\\_api\\deprecation.py:119: LangChainDeprecationWarning: The class `LLMChain` was deprecated in LangChain 0.1.17 and will be removed in 0.3.0. Use RunnableSequence, e.g., `prompt | llm` instead.\n",
      "  warn_deprecated(\n"
     ]
    }
   ],
   "source": [
    "## Construct the LLM Chain\n",
    "question = \"Who won the FIFA World Cup in the year 1994? \"\n",
    "\n",
    "## Chain Of thoughts Prompting\n",
    "template = \"\"\"Question: {question}\n",
    "\n",
    "Answer: Let's think step by step.\"\"\"\n",
    "\n",
    "prompt = ChatPromptTemplate.from_template(template)\n",
    "\n",
    "llm_chain = LLMChain(prompt=prompt,llm=microsoft_phi3_model)"
   ]
  },
  {
   "cell_type": "code",
   "execution_count": null,
   "metadata": {},
   "outputs": [
    {
     "name": "stderr",
     "output_type": "stream",
     "text": [
      "c:\\Users\\mehdi\\anaconda3\\envs\\langchain-tuto\\lib\\site-packages\\langchain_core\\_api\\deprecation.py:119: LangChainDeprecationWarning: The method `Chain.run` was deprecated in langchain 0.1.0 and will be removed in 0.3.0. Use invoke instead.\n",
      "  warn_deprecated(\n"
     ]
    },
    {
     "data": {
      "text/plain": [
       "' The FIFA World Cup is an international soccer tournament that takes place every four years. The tournament in 1994 was held in the United States. The winner of the 1994 FIFA World Cup was Brazil. They defeated Italy in the final match with a score of 3-2.'"
      ]
     },
     "execution_count": 5,
     "metadata": {},
     "output_type": "execute_result"
    }
   ],
   "source": [
    "llm_chain.run(question)"
   ]
  },
  {
   "cell_type": "markdown",
   "metadata": {},
   "source": [
    "## SimpleSequentialChain - SequentialChain\n",
    "\n",
    "Another Types of Chain that are aimed to combine multiple chains where the output of the one chain is the input of the next chain.\n",
    "\n",
    "* SimpleSequentialChain:Single Input/Output.\n",
    "* SequentialChain:multiple Inputs/Outpus."
   ]
  },
  {
   "cell_type": "markdown",
   "metadata": {},
   "source": [
    "### SimpleSequentialChain"
   ]
  },
  {
   "cell_type": "code",
   "execution_count": null,
   "metadata": {},
   "outputs": [
    {
     "data": {
      "text/plain": [
       "{'product_category': 'Building Muscles',\n",
       " 'text': '1. Think about the product category: Building Muscles\\n2. Consider what types of products are commonly associated with building muscles (e.g. protein supplements, weightlifting equipment, workout programs)\\n3. Brainstorm keywords that are specific to products in the building muscles category\\n4. Consider the target audience for these products and what keywords they might use when searching for them\\n5. Think about the benefits or features of the product that would appeal to someone looking to build muscles\\n6. Combine these elements to generate a specific keyword for a product in the building muscles category\\n\\nFinal keyword: \"Muscle-building protein powder\"'}"
      ]
     },
     "execution_count": 40,
     "metadata": {},
     "output_type": "execute_result"
    }
   ],
   "source": [
    "from langchain.chains import  SimpleSequentialChain\n",
    "from langchain.output_parsers import JsonOutputToolsParser\n",
    "\n",
    "product_category = \"Building Muscles\"\n",
    "\n",
    "prompt_one = ChatPromptTemplate.from_template(\n",
    "    \"\"\"\n",
    "    Try to generate me good specific keyword for a product that belongs to a category delimited by triple backticks.\\\n",
    "    Try to think step by step before ansering the final answer.\\\n",
    "    product_category : ```{product_category}```\n",
    "\"\"\"\n",
    ")\n",
    "# prompt_one.messages[0].input_variables\n",
    "first_chain = LLMChain(llm=openai_llm_model,prompt=prompt_one)\n",
    "first_chain.invoke({\n",
    "    \"product_category\":product_category\n",
    "})"
   ]
  },
  {
   "cell_type": "code",
   "execution_count": null,
   "metadata": {},
   "outputs": [],
   "source": [
    "prompt_two = ChatPromptTemplate.from_template(\n",
    "    \"\"\"\n",
    "    Try to generate me a call to action text for a product based on their keywords delimited by triple backticks.\\\n",
    "    Try to think step by step before answering the final answer.\\\n",
    "    keywords : ```{product_keyword}```\n",
    "\"\"\"\n",
    ")\n",
    "# prompt_one.messages[0].input_variables\n",
    "second_chain = LLMChain(llm=openai_llm_model,prompt=prompt_two)"
   ]
  },
  {
   "cell_type": "markdown",
   "metadata": {},
   "source": [
    "### Combining the chains to construct one SimpleSequentialChain"
   ]
  },
  {
   "cell_type": "code",
   "execution_count": null,
   "metadata": {},
   "outputs": [
    {
     "name": "stdout",
     "output_type": "stream",
     "text": [
      "\n",
      "\n",
      "\u001b[1m> Entering new SimpleSequentialChain chain...\u001b[0m\n",
      "\u001b[36;1m\u001b[1;3m1. Think about the main purpose or benefit of the product within the \"Building Muscles\" category.\n",
      "2. Consider any unique features or ingredients that set the product apart.\n",
      "3. Brainstorm related terms or synonyms that potential customers might use when searching for this type of product.\n",
      "4. Combine these elements into a specific keyword that accurately describes the product.\n",
      "\n",
      "Keyword: \"Protein-packed Muscle Builder Supplement\"\u001b[0m\n",
      "\u001b[33;1m\u001b[1;3mAre you looking to build muscles and increase your strength? Look no further than our Protein-packed Muscle Builder Supplement! With unique ingredients and powerful features, this supplement is designed to help you achieve your fitness goals. Don't wait any longer, try our Protein-packed Muscle Builder Supplement today and take your workouts to the next level!\u001b[0m\n",
      "\n",
      "\u001b[1m> Finished chain.\u001b[0m\n"
     ]
    },
    {
     "data": {
      "text/plain": [
       "\"Are you looking to build muscles and increase your strength? Look no further than our Protein-packed Muscle Builder Supplement! With unique ingredients and powerful features, this supplement is designed to help you achieve your fitness goals. Don't wait any longer, try our Protein-packed Muscle Builder Supplement today and take your workouts to the next level!\""
      ]
     },
     "execution_count": 42,
     "metadata": {},
     "output_type": "execute_result"
    }
   ],
   "source": [
    "sequetialChains = SimpleSequentialChain(chains=[first_chain,second_chain],verbose=True)\n",
    "sequetialChains.run(product_category)"
   ]
  },
  {
   "cell_type": "markdown",
   "metadata": {},
   "source": [
    "### SequentialChain"
   ]
  },
  {
   "cell_type": "code",
   "execution_count": null,
   "metadata": {},
   "outputs": [],
   "source": [
    "from langchain.chains import SequentialChain\n",
    "\n",
    "product_description = \"Are you looking to build muscles and increase your strength? Look no further than our Protein-packed Muscle Builder Supplement! \\\n",
    "    With unique ingredients and powerful features, this supplement is designed to help you achieve your fitness goals.\\\n",
    "        Don't wait any longer, try our Protein-packed Muscle Builder Supplement today and take your workouts to the next level!\"\n",
    "\n",
    "first_prompt = ChatPromptTemplate.from_template(\n",
    "    \"\"\"\n",
    "    You are an expert assistant in text translation .\n",
    "    Try to translate into frensh the text delimited by triple backticks.\n",
    "    text : ```{product_description}```\n",
    "    \"\"\"\n",
    ")\n",
    "chain_one = LLMChain(llm=microsoft_phi3_model,\n",
    "                     prompt=first_prompt,\n",
    "                     output_key=\"product_description_frensh_version\")"
   ]
  },
  {
   "cell_type": "code",
   "execution_count": null,
   "metadata": {},
   "outputs": [],
   "source": [
    "second_prompt = ChatPromptTemplate.from_template(\n",
    "    \"\"\"\n",
    "    You are an expert assistant in text summurization .\n",
    "    Try to summurize into specific manner the text delimited by triple backticks.\n",
    "    text : ```{product_description_frensh_version}```\n",
    "    \"\"\"\n",
    ")\n",
    "chain_two = LLMChain(llm=openai_llm_model,\n",
    "                     prompt=second_prompt,\n",
    "                     output_key=\"summurized_product_description_frensh_version\")"
   ]
  },
  {
   "cell_type": "code",
   "execution_count": null,
   "metadata": {},
   "outputs": [],
   "source": [
    "third_prompt = ChatPromptTemplate.from_template(\n",
    "    \"\"\"\n",
    "    You are an expert assistant in natural language model .\n",
    "    Try to answer the question delimited by triple backticks.\n",
    "    question : ```What is the language of this review:{product_description}```\n",
    "    \"\"\"\n",
    ")\n",
    "chain_three = LLMChain(llm=openai_llm_model,\n",
    "                     prompt=third_prompt,\n",
    "                     output_key=\"review_language\")"
   ]
  },
  {
   "cell_type": "code",
   "execution_count": null,
   "metadata": {},
   "outputs": [],
   "source": [
    "fourth_prompt = ChatPromptTemplate.from_template(\n",
    "    \"\"\"\n",
    "    Try to write me a follow up feedback to the summary that is delimited by triple backticks \\\n",
    "          into the {review_language} language.\n",
    "    summary : ```{summurized_product_description_frensh_version}```\n",
    "    \"\"\"\n",
    ")\n",
    "chain_four = LLMChain(llm=openai_llm_model,\n",
    "                     prompt=fourth_prompt,\n",
    "                     output_key=\"follow_up_feedback\")"
   ]
  },
  {
   "cell_type": "code",
   "execution_count": null,
   "metadata": {},
   "outputs": [
    {
     "name": "stdout",
     "output_type": "stream",
     "text": [
      "\n",
      "\n",
      "\u001b[1m> Entering new SequentialChain chain...\u001b[0m\n",
      "\n",
      "\u001b[1m> Finished chain.\u001b[0m\n"
     ]
    },
    {
     "data": {
      "text/plain": [
       "{'product_description': \"Are you looking to build muscles and increase your strength? Look no further than our Protein-packed Muscle Builder Supplement!     With unique ingredients and powerful features, this supplement is designed to help you achieve your fitness goals.        Don't wait any longer, try our Protein-packed Muscle Builder Supplement today and take your workouts to the next level!\",\n",
       " 'product_description_frensh_version': \"\\n    Here is the translation :\\n    Vous cherchez peut-être à développer vos muscles et augmenter votre force ? N'attendez plus, essayez notre Supplément Muscle Builder Proteiné aujourd'hui et améliorez votre niveau d'entrainement !\\n\\n\",\n",
       " 'summurized_product_description_frensh_version': 'Summary: The text promotes a muscle-building protein supplement to help increase muscle mass and strength during workouts.',\n",
       " 'follow_up_feedback': 'Thank you for providing a summary of the text. It seems like the focus is on promoting a muscle-building protein supplement to enhance muscle mass and strength during workouts. It would be helpful to include more details about the specific benefits of the supplement and any potential side effects. Overall, the summary provides a clear understanding of the main topic being discussed.'}"
      ]
     },
     "execution_count": 66,
     "metadata": {},
     "output_type": "execute_result"
    }
   ],
   "source": [
    "combined_sequetial_chain = SequentialChain(\n",
    "    chains=[chain_one,chain_two,chain_three,chain_four],\n",
    "    input_variables=[\"product_description\"],\n",
    "    output_variables=[\n",
    "        \"product_description_frensh_version\",\n",
    "        \"summurized_product_description_frensh_version\",\n",
    "        \"follow_up_feedback\"\n",
    "        ],\n",
    "    verbose=True\n",
    ")\n",
    "##combined_sequetial_chain.to_json()\n",
    "combined_sequetial_chain.invoke(\n",
    "    {\n",
    "        \"product_description\":product_description\n",
    "    }\n",
    ")"
   ]
  },
  {
   "cell_type": "markdown",
   "metadata": {},
   "source": [
    "## Router Chain \n",
    "\n",
    "* Dynamically route logic based on input\n",
    "\n",
    "* Routing allows you to create non-deterministic (strict feed) chains where the output of a previous step defines the next step. Routing helps provide structure and consistency around interactions with LLMs."
   ]
  },
  {
   "cell_type": "code",
   "execution_count": 70,
   "metadata": {},
   "outputs": [],
   "source": [
    "## Prepare differents prompt template for each use case\n",
    "physics_template = \"\"\"You are a very smart physics professor. \\\n",
    "You are great at answering questions about physics in a concise\\\n",
    "and easy to understand manner. \\\n",
    "When you don't know the answer to a question you admit\\\n",
    "that you don't know.\n",
    "\n",
    "Here is a question:\n",
    "{input}\"\"\"\n",
    "\n",
    "\n",
    "math_template = \"\"\"You are a very good mathematician. \\\n",
    "You are great at answering math questions. \\\n",
    "You are so good because you are able to break down \\\n",
    "hard problems into their component parts, \n",
    "answer the component parts, and then put them together\\\n",
    "to answer the broader question.\n",
    "\n",
    "Here is a question:\n",
    "{input}\"\"\"\n",
    "\n",
    "history_template = \"\"\"You are a very good historian. \\\n",
    "You have an excellent knowledge of and understanding of people,\\\n",
    "events and contexts from a range of historical periods. \\\n",
    "You have the ability to think, reflect, debate, discuss and \\\n",
    "evaluate the past. You have a respect for historical evidence\\\n",
    "and the ability to make use of it to support your explanations \\\n",
    "and judgements.\n",
    "\n",
    "Here is a question:\n",
    "{input}\"\"\"\n",
    "\n",
    "\n",
    "computerscience_template = \"\"\" You are a successful computer scientist.\\\n",
    "You have a passion for creativity, collaboration,\\\n",
    "forward-thinking, confidence, strong problem-solving capabilities,\\\n",
    "understanding of theories and algorithms, and excellent communication \\\n",
    "skills. You are great at answering coding questions. \\\n",
    "You are so good because you know how to solve a problem by \\\n",
    "describing the solution in imperative steps \\\n",
    "that a machine can easily interpret and you know how to \\\n",
    "choose a solution that has a good balance between \\\n",
    "time complexity and space complexity. \n",
    "\n",
    "Here is a question:\n",
    "{input}\"\"\""
   ]
  },
  {
   "cell_type": "code",
   "execution_count": 71,
   "metadata": {},
   "outputs": [],
   "source": [
    "## Provide configuration for each prompt template\n",
    "prompt_infos = [\n",
    "    {\n",
    "        \"name\": \"physics\", \n",
    "        \"description\": \"Good for answering questions about physics\", \n",
    "        \"prompt_template\": physics_template\n",
    "    },\n",
    "    {\n",
    "        \"name\": \"math\", \n",
    "        \"description\": \"Good for answering math questions\", \n",
    "        \"prompt_template\": math_template\n",
    "    },\n",
    "    {\n",
    "        \"name\": \"History\", \n",
    "        \"description\": \"Good for answering history questions\", \n",
    "        \"prompt_template\": history_template\n",
    "    },\n",
    "    {\n",
    "        \"name\": \"computer science\", \n",
    "        \"description\": \"Good for answering computer science questions\", \n",
    "        \"prompt_template\": computerscience_template\n",
    "    }\n",
    "]"
   ]
  },
  {
   "cell_type": "code",
   "execution_count": 96,
   "metadata": {},
   "outputs": [
    {
     "data": {
      "text/plain": [
       "'physics:Good for answering questions about physics\\nmath:Good for answering math questions\\nHistory:Good for answering history questions\\ncomputer science:Good for answering computer science questions'"
      ]
     },
     "execution_count": 96,
     "metadata": {},
     "output_type": "execute_result"
    }
   ],
   "source": [
    "from langchain.chains.router import MultiPromptChain\n",
    "from langchain.chains.router.llm_router import LLMRouterChain, RouterOutputParser\n",
    "from langchain.prompts import PromptTemplate\n",
    "import json\n",
    "\n",
    "destination_chain = {}\n",
    "for p_infos in prompt_infos:\n",
    "    name = p_infos[\"name\"]\n",
    "    prompt_template = p_infos[\"prompt_template\"]\n",
    "    prompt = ChatPromptTemplate.from_template(template=prompt_template)\n",
    "    chain = LLMChain(llm=openai_llm_model,prompt=prompt)\n",
    "    ## Append chains configuration to destination_chain dict\n",
    "    destination_chain[name] = chain\n",
    "\n",
    "destination = [f\"{p['name']}:{p['description']}\" for p in prompt_infos]\n",
    "destination_str = \"\\n\".join(destination)\n",
    "destination_str"
   ]
  },
  {
   "cell_type": "code",
   "execution_count": 88,
   "metadata": {},
   "outputs": [],
   "source": [
    "## Create a default chain for the LLM can't choose between the crafted chains\n",
    "default_prompt = ChatPromptTemplate.from_template(\"{input}\")\n",
    "default_chain = LLMChain(llm=openai_llm_model,prompt=default_prompt)"
   ]
  },
  {
   "cell_type": "code",
   "execution_count": 97,
   "metadata": {},
   "outputs": [],
   "source": [
    "## The template that will be injected into the LLMrouterChain\n",
    "MULTI_PROMPT_ROUTER_TEMPLATE = \"\"\"Given a raw text input to a \\\n",
    "language model select the model prompt best suited for the input. \\\n",
    "You will be given the names of the available prompts and a \\\n",
    "description of what the prompt is best suited for. \\\n",
    "You may also revise the original input if you think that revising\\\n",
    "it will ultimately lead to a better response from the language model.\n",
    "\n",
    "<< FORMATTING >>\n",
    "Return a markdown code snippet with a JSON object formatted to look like:\n",
    "```json\n",
    "{{{{\n",
    "    \"destination\": string \\ name of the prompt to use or \"DEFAULT\"\n",
    "    \"next_inputs\": string \\ a potentially modified version of the original input\n",
    "}}}}\n",
    "```\n",
    "\n",
    "REMEMBER: \"destination\" MUST be one of the candidate prompt \\\n",
    "names specified below OR it can be \"DEFAULT\" if the input is not\\\n",
    "well suited for any of the candidate prompts.\n",
    "REMEMBER: \"next_inputs\" can just be the original input \\\n",
    "if you don't think any modifications are needed.\n",
    "\n",
    "<< CANDIDATE PROMPTS >>\n",
    "{destinations}\n",
    "\n",
    "<< INPUT >>\n",
    "{{input}}\n",
    "\n",
    "<< OUTPUT (remember to include the ```json``` formatting)>>\"\"\""
   ]
  },
  {
   "cell_type": "code",
   "execution_count": 99,
   "metadata": {},
   "outputs": [
    {
     "data": {
      "text/plain": [
       "LLMRouterChain(llm_chain=LLMChain(prompt=PromptTemplate(input_variables=['input'], output_parser=RouterOutputParser(), template='Given a raw text input to a language model select the model prompt best suited for the input. You will be given the names of the available prompts and a description of what the prompt is best suited for. You may also revise the original input if you think that revisingit will ultimately lead to a better response from the language model.\\n\\n<< FORMATTING >>\\nReturn a markdown code snippet with a JSON object formatted to look like:\\n```json\\n{{\\n    \"destination\": string \\\\ name of the prompt to use or \"DEFAULT\"\\n    \"next_inputs\": string \\\\ a potentially modified version of the original input\\n}}\\n```\\n\\nREMEMBER: \"destination\" MUST be one of the candidate prompt names specified below OR it can be \"DEFAULT\" if the input is notwell suited for any of the candidate prompts.\\nREMEMBER: \"next_inputs\" can just be the original input if you don\\'t think any modifications are needed.\\n\\n<< CANDIDATE PROMPTS >>\\nphysics:Good for answering questions about physics\\nmath:Good for answering math questions\\nHistory:Good for answering history questions\\ncomputer science:Good for answering computer science questions\\n\\n<< INPUT >>\\n{input}\\n\\n<< OUTPUT (remember to include the ```json``` formatting)>>'), llm=ChatOpenAI(client=<openai.resources.chat.completions.Completions object at 0x000001E83ADA8880>, async_client=<openai.resources.chat.completions.AsyncCompletions object at 0x000001E83ADA9FF0>, temperature=0.2, openai_api_key=SecretStr('**********'), openai_proxy='', max_tokens=1024)))"
      ]
     },
     "execution_count": 99,
     "metadata": {},
     "output_type": "execute_result"
    }
   ],
   "source": [
    "router_template = MULTI_PROMPT_ROUTER_TEMPLATE.format(\n",
    "    destinations=destination_str\n",
    ")\n",
    "router_prompt = PromptTemplate(\n",
    "    template=router_template,\n",
    "    input_variables=[\"input\"],\n",
    "    output_parser=RouterOutputParser()\n",
    ")\n",
    "router_llm_chain = LLMRouterChain.from_llm(\n",
    "    llm=openai_llm_model,\n",
    "    prompt=router_prompt\n",
    ")"
   ]
  },
  {
   "cell_type": "code",
   "execution_count": 105,
   "metadata": {},
   "outputs": [
    {
     "name": "stdout",
     "output_type": "stream",
     "text": [
      "\n",
      "\n",
      "\u001b[1m> Entering new MultiPromptChain chain...\u001b[0m\n",
      "physics: {'input': 'What is thermodynamics?'}\n",
      "\u001b[1m> Finished chain.\u001b[0m\n"
     ]
    },
    {
     "data": {
      "text/plain": [
       "{'input': 'What is thermodynamics?',\n",
       " 'text': 'Thermodynamics is the branch of physics that deals with the relationships between heat and other forms of energy. It studies how energy is transferred as heat and work, and how these processes affect the properties of matter. Thermodynamics also explores concepts such as temperature, entropy, and the laws of thermodynamics, which govern the behavior of energy in systems.'}"
      ]
     },
     "execution_count": 105,
     "metadata": {},
     "output_type": "execute_result"
    }
   ],
   "source": [
    "multi_router_chain = MultiPromptChain(\n",
    "      router_chain=router_llm_chain,\n",
    "      destination_chains=destination_chain,\n",
    "      default_chain=default_chain,\n",
    "      verbose=True\n",
    ")\n",
    "multi_router_chain.invoke({\n",
    "    \"input\":\"What is thermodynamic ?\"\n",
    "})"
   ]
  },
  {
   "cell_type": "code",
   "execution_count": null,
   "metadata": {},
   "outputs": [],
   "source": []
  }
 ],
 "metadata": {
  "kernelspec": {
   "display_name": "langchain-tuto",
   "language": "python",
   "name": "python3"
  },
  "language_info": {
   "codemirror_mode": {
    "name": "ipython",
    "version": 3
   },
   "file_extension": ".py",
   "mimetype": "text/x-python",
   "name": "python",
   "nbconvert_exporter": "python",
   "pygments_lexer": "ipython3",
   "version": "3.10.14"
  }
 },
 "nbformat": 4,
 "nbformat_minor": 2
}
