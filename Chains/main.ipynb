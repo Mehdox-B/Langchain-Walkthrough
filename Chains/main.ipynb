{
 "cells": [
  {
   "cell_type": "markdown",
   "metadata": {
    "vscode": {
     "languageId": "bat"
    }
   },
   "source": [
    "# Chains in LangChain\n",
    "\n",
    "Chains are easily reusable components linked together.\n",
    "\n",
    "Chains encode a sequence of calls to components like models, document retrievers, other Chains, etc., and provide a simple interface to this sequence.\n",
    "\n",
    "The Chain interface makes it easy to create apps that are:\n",
    "\n",
    "* Stateful: add Memory to any Chain to give it state,\n",
    "\n",
    "* Observable: pass Callbacks to a Chain to execute additional functionality, like logging, outside the main sequence of component calls,\n",
    "\n",
    "* Composable: combine Chains with other components, including other Chains.\n",
    "\n",
    "## Outline\n",
    "\n",
    "* LLMChain\n",
    "* Sequential Chains\n",
    "  * SimpleSequentialChain\n",
    "  * SequentialChain\n",
    "* Router Chain"
   ]
  },
  {
   "cell_type": "code",
   "execution_count": 1,
   "metadata": {},
   "outputs": [],
   "source": [
    "## Load you env variables\n",
    "import os\n",
    "from dotenv import load_dotenv,find_dotenv\n",
    "import openai\n",
    "import anthropic\n",
    "from anthropic import Anthropic\n",
    "\n",
    "_ = load_dotenv(find_dotenv(filename='.env'))"
   ]
  },
  {
   "cell_type": "code",
   "execution_count": 2,
   "metadata": {},
   "outputs": [
    {
     "data": {
      "text/html": [
       "<div>\n",
       "<style scoped>\n",
       "    .dataframe tbody tr th:only-of-type {\n",
       "        vertical-align: middle;\n",
       "    }\n",
       "\n",
       "    .dataframe tbody tr th {\n",
       "        vertical-align: top;\n",
       "    }\n",
       "\n",
       "    .dataframe thead th {\n",
       "        text-align: right;\n",
       "    }\n",
       "</style>\n",
       "<table border=\"1\" class=\"dataframe\">\n",
       "  <thead>\n",
       "    <tr style=\"text-align: right;\">\n",
       "      <th></th>\n",
       "      <th>id_projet</th>\n",
       "      <th>Nom_Projet</th>\n",
       "      <th>Jour_Debut</th>\n",
       "      <th>Mois_Debut</th>\n",
       "      <th>Annee_Debut</th>\n",
       "      <th>Jour_Fin</th>\n",
       "      <th>Mois_Fin</th>\n",
       "      <th>Annee_Fin</th>\n",
       "    </tr>\n",
       "  </thead>\n",
       "  <tbody>\n",
       "    <tr>\n",
       "      <th>0</th>\n",
       "      <td>1</td>\n",
       "      <td>Greenview Residences</td>\n",
       "      <td>15</td>\n",
       "      <td>5</td>\n",
       "      <td>2025</td>\n",
       "      <td>15</td>\n",
       "      <td>5</td>\n",
       "      <td>2025</td>\n",
       "    </tr>\n",
       "    <tr>\n",
       "      <th>1</th>\n",
       "      <td>2</td>\n",
       "      <td>Riverfront Estates</td>\n",
       "      <td>1</td>\n",
       "      <td>6</td>\n",
       "      <td>2025</td>\n",
       "      <td>1</td>\n",
       "      <td>6</td>\n",
       "      <td>2025</td>\n",
       "    </tr>\n",
       "    <tr>\n",
       "      <th>2</th>\n",
       "      <td>3</td>\n",
       "      <td>Sunset Heights</td>\n",
       "      <td>15</td>\n",
       "      <td>6</td>\n",
       "      <td>2025</td>\n",
       "      <td>15</td>\n",
       "      <td>6</td>\n",
       "      <td>2025</td>\n",
       "    </tr>\n",
       "    <tr>\n",
       "      <th>3</th>\n",
       "      <td>4</td>\n",
       "      <td>Maplewood Gardens</td>\n",
       "      <td>1</td>\n",
       "      <td>7</td>\n",
       "      <td>2025</td>\n",
       "      <td>1</td>\n",
       "      <td>7</td>\n",
       "      <td>2025</td>\n",
       "    </tr>\n",
       "    <tr>\n",
       "      <th>4</th>\n",
       "      <td>5</td>\n",
       "      <td>Lakeview Terrace</td>\n",
       "      <td>15</td>\n",
       "      <td>7</td>\n",
       "      <td>2025</td>\n",
       "      <td>15</td>\n",
       "      <td>7</td>\n",
       "      <td>2025</td>\n",
       "    </tr>\n",
       "  </tbody>\n",
       "</table>\n",
       "</div>"
      ],
      "text/plain": [
       "   id_projet                                     Nom_Projet  Jour_Debut  \\\n",
       "0          1  Greenview Residences                                   15   \n",
       "1          2  Riverfront Estates                                      1   \n",
       "2          3  Sunset Heights                                         15   \n",
       "3          4  Maplewood Gardens                                       1   \n",
       "4          5  Lakeview Terrace                                       15   \n",
       "\n",
       "   Mois_Debut  Annee_Debut  Jour_Fin  Mois_Fin  Annee_Fin  \n",
       "0           5         2025        15         5       2025  \n",
       "1           6         2025         1         6       2025  \n",
       "2           6         2025        15         6       2025  \n",
       "3           7         2025         1         7       2025  \n",
       "4           7         2025        15         7       2025  "
      ]
     },
     "execution_count": 2,
     "metadata": {},
     "output_type": "execute_result"
    }
   ],
   "source": [
    "## Import Pandas Library\n",
    "import pandas as pd\n",
    "\n",
    "## read the cv file from Data folder\n",
    "projectData = pd.read_csv('./Data/DIM_PROJET.csv')\n",
    "projectData.head()"
   ]
  },
  {
   "cell_type": "code",
   "execution_count": 23,
   "metadata": {},
   "outputs": [
    {
     "name": "stderr",
     "output_type": "stream",
     "text": [
      "WARNING! token is not default parameter.\n",
      "                    token was transferred to model_kwargs.\n",
      "                    Please make sure that token is what you intended.\n",
      "WARNING! add_to_git_credential is not default parameter.\n",
      "                    add_to_git_credential was transferred to model_kwargs.\n",
      "                    Please make sure that add_to_git_credential is what you intended.\n"
     ]
    },
    {
     "name": "stdout",
     "output_type": "stream",
     "text": [
      "The token has not been saved to the git credentials helper. Pass `add_to_git_credential=True` in this function directly or `--add-to-git-credential` if using via `huggingface-cli` if you want to set the git credential as well.\n",
      "Token is valid (permission: write).\n",
      "Your token has been saved to C:\\Users\\mehdi\\.cache\\huggingface\\token\n",
      "Login successful\n"
     ]
    }
   ],
   "source": [
    "## Import necessary Langchain's components to interact with the projectData\n",
    "from langchain_community.llms import HuggingFaceEndpoint\n",
    "from langchain.prompts import  ChatPromptTemplate\n",
    "from langchain.chains import LLMChain\n",
    "from langchain_openai import ChatOpenAI\n",
    "\n",
    "HUGGINGFACEHUB_API_TOKEN = os.getenv(\"HUGGINGFACEHUB_API_TOKEN\")\n",
    "\n",
    "openai_llm_model = ChatOpenAI(\n",
    "    model=\"gpt-3.5-turbo\",\n",
    "    api_key=os.getenv(\"OPENAI_API_KEY\"),\n",
    "    temperature=0.2,\n",
    "    max_tokens=1024\n",
    ")\n",
    "\n",
    "microsoft_phi3_model = HuggingFaceEndpoint(\n",
    "    repo_id = \"microsoft/Phi-3-mini-4k-instruct\",\n",
    "    temperature=0.5,\n",
    "    token=HUGGINGFACEHUB_API_TOKEN,\n",
    "    add_to_git_credential=True\n",
    ")\n"
   ]
  },
  {
   "cell_type": "markdown",
   "metadata": {},
   "source": [
    "## LLMChain"
   ]
  },
  {
   "cell_type": "code",
   "execution_count": 4,
   "metadata": {},
   "outputs": [
    {
     "name": "stderr",
     "output_type": "stream",
     "text": [
      "c:\\Users\\mehdi\\anaconda3\\envs\\langchain-tuto\\lib\\site-packages\\langchain_core\\_api\\deprecation.py:119: LangChainDeprecationWarning: The class `LLMChain` was deprecated in LangChain 0.1.17 and will be removed in 0.3.0. Use RunnableSequence, e.g., `prompt | llm` instead.\n",
      "  warn_deprecated(\n"
     ]
    }
   ],
   "source": [
    "## Construct the LLM Chain\n",
    "question = \"Who won the FIFA World Cup in the year 1994? \"\n",
    "\n",
    "## Chain Of thoughts Prompting\n",
    "template = \"\"\"Question: {question}\n",
    "\n",
    "Answer: Let's think step by step.\"\"\"\n",
    "\n",
    "prompt = ChatPromptTemplate.from_template(template)\n",
    "\n",
    "llm_chain = LLMChain(prompt=prompt,llm=microsoft_phi3_model)"
   ]
  },
  {
   "cell_type": "code",
   "execution_count": 5,
   "metadata": {},
   "outputs": [
    {
     "name": "stderr",
     "output_type": "stream",
     "text": [
      "c:\\Users\\mehdi\\anaconda3\\envs\\langchain-tuto\\lib\\site-packages\\langchain_core\\_api\\deprecation.py:119: LangChainDeprecationWarning: The method `Chain.run` was deprecated in langchain 0.1.0 and will be removed in 0.3.0. Use invoke instead.\n",
      "  warn_deprecated(\n"
     ]
    },
    {
     "data": {
      "text/plain": [
       "' The FIFA World Cup is an international soccer tournament that takes place every four years. The tournament in 1994 was held in the United States. The winner of the 1994 FIFA World Cup was Brazil. They defeated Italy in the final match with a score of 3-2.'"
      ]
     },
     "execution_count": 5,
     "metadata": {},
     "output_type": "execute_result"
    }
   ],
   "source": [
    "llm_chain.run(question)"
   ]
  },
  {
   "cell_type": "markdown",
   "metadata": {},
   "source": [
    "## SimpleSequentialChain - SequentialChain\n",
    "\n",
    "Another Types of Chain that are aimed to combine multiple chains where the output of the one chain is the input of the next chain.\n",
    "\n",
    "* SimpleSequentialChain:Single Input/Output.\n",
    "* SequentialChain:multiple Inputs/Outpus."
   ]
  },
  {
   "cell_type": "code",
   "execution_count": 40,
   "metadata": {},
   "outputs": [
    {
     "data": {
      "text/plain": [
       "{'product_category': 'Building Muscles',\n",
       " 'text': '1. Think about the product category: Building Muscles\\n2. Consider what types of products are commonly associated with building muscles (e.g. protein supplements, weightlifting equipment, workout programs)\\n3. Brainstorm keywords that are specific to products in the building muscles category\\n4. Consider the target audience for these products and what keywords they might use when searching for them\\n5. Think about the benefits or features of the product that would appeal to someone looking to build muscles\\n6. Combine these elements to generate a specific keyword for a product in the building muscles category\\n\\nFinal keyword: \"Muscle-building protein powder\"'}"
      ]
     },
     "execution_count": 40,
     "metadata": {},
     "output_type": "execute_result"
    }
   ],
   "source": [
    "from langchain.chains import  SimpleSequentialChain\n",
    "from langchain.output_parsers import JsonOutputToolsParser\n",
    "\n",
    "product_category = \"Building Muscles\"\n",
    "\n",
    "prompt_one = ChatPromptTemplate.from_template(\n",
    "    \"\"\"\n",
    "    Try to generate me good specific keyword for a product that belongs to a category delimited by triple backticks.\\\n",
    "    Try to think step by step before ansering the final answer.\\\n",
    "    product_category : ```{product_category}```\n",
    "\"\"\"\n",
    ")\n",
    "# prompt_one.messages[0].input_variables\n",
    "first_chain = LLMChain(llm=openai_llm_model,prompt=prompt_one)\n",
    "first_chain.invoke({\n",
    "    \"product_category\":product_category\n",
    "})"
   ]
  },
  {
   "cell_type": "code",
   "execution_count": 41,
   "metadata": {},
   "outputs": [],
   "source": [
    "prompt_two = ChatPromptTemplate.from_template(\n",
    "    \"\"\"\n",
    "    Try to generate me a call to action text for a product based on their keywords delimited by triple backticks.\\\n",
    "    Try to think step by step before answering the final answer.\\\n",
    "    keywords : ```{product_keyword}```\n",
    "\"\"\"\n",
    ")\n",
    "# prompt_one.messages[0].input_variables\n",
    "second_chain = LLMChain(llm=openai_llm_model,prompt=prompt_two)"
   ]
  },
  {
   "cell_type": "markdown",
   "metadata": {},
   "source": [
    "### Combining the chains to construct one SequentialChain"
   ]
  },
  {
   "cell_type": "code",
   "execution_count": 42,
   "metadata": {},
   "outputs": [
    {
     "name": "stdout",
     "output_type": "stream",
     "text": [
      "\n",
      "\n",
      "\u001b[1m> Entering new SimpleSequentialChain chain...\u001b[0m\n",
      "\u001b[36;1m\u001b[1;3m1. Think about the main purpose or benefit of the product within the \"Building Muscles\" category.\n",
      "2. Consider any unique features or ingredients that set the product apart.\n",
      "3. Brainstorm related terms or synonyms that potential customers might use when searching for this type of product.\n",
      "4. Combine these elements into a specific keyword that accurately describes the product.\n",
      "\n",
      "Keyword: \"Protein-packed Muscle Builder Supplement\"\u001b[0m\n",
      "\u001b[33;1m\u001b[1;3mAre you looking to build muscles and increase your strength? Look no further than our Protein-packed Muscle Builder Supplement! With unique ingredients and powerful features, this supplement is designed to help you achieve your fitness goals. Don't wait any longer, try our Protein-packed Muscle Builder Supplement today and take your workouts to the next level!\u001b[0m\n",
      "\n",
      "\u001b[1m> Finished chain.\u001b[0m\n"
     ]
    },
    {
     "data": {
      "text/plain": [
       "\"Are you looking to build muscles and increase your strength? Look no further than our Protein-packed Muscle Builder Supplement! With unique ingredients and powerful features, this supplement is designed to help you achieve your fitness goals. Don't wait any longer, try our Protein-packed Muscle Builder Supplement today and take your workouts to the next level!\""
      ]
     },
     "execution_count": 42,
     "metadata": {},
     "output_type": "execute_result"
    }
   ],
   "source": [
    "sequetialChains = SimpleSequentialChain(chains=[first_chain,second_chain],verbose=True)\n",
    "sequetialChains.run(product_category)"
   ]
  },
  {
   "cell_type": "code",
   "execution_count": null,
   "metadata": {},
   "outputs": [],
   "source": []
  }
 ],
 "metadata": {
  "kernelspec": {
   "display_name": "langchain-tuto",
   "language": "python",
   "name": "python3"
  },
  "language_info": {
   "codemirror_mode": {
    "name": "ipython",
    "version": 3
   },
   "file_extension": ".py",
   "mimetype": "text/x-python",
   "name": "python",
   "nbconvert_exporter": "python",
   "pygments_lexer": "ipython3",
   "version": "3.10.14"
  }
 },
 "nbformat": 4,
 "nbformat_minor": 2
}
