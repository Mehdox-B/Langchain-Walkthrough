{
 "cells": [
  {
   "cell_type": "markdown",
   "metadata": {},
   "source": [
    "### LangChain: Q&A over Documents"
   ]
  },
  {
   "cell_type": "code",
   "execution_count": 1,
   "metadata": {},
   "outputs": [],
   "source": [
    "## Import necessary libraries\n",
    "import os\n",
    "from dotenv import load_dotenv,find_dotenv\n",
    "_ = load_dotenv(find_dotenv(\".env\"))"
   ]
  },
  {
   "cell_type": "code",
   "execution_count": 11,
   "metadata": {},
   "outputs": [],
   "source": [
    "## Import Langchain Classes\n",
    "from langchain.chains import RetrievalQA\n",
    "from langchain_openai import ChatOpenAI\n",
    "from langchain.document_loaders import CSVLoader\n",
    "from langchain_community.vectorstores import FAISS\n",
    "from langchain.indexes import  VectorstoreIndexCreator\n",
    "from langchain_openai.embeddings import  OpenAIEmbeddings\n",
    "from IPython.display import display,Markdown"
   ]
  },
  {
   "cell_type": "markdown",
   "metadata": {},
   "source": [
    "### RetrievalQA\n",
    "* This chain first does a retrieval step to fetch relevant documents, then passes those documents into an LLM to generate a response.\n",
    "### DocArrayInMemorySearch\n",
    "* DocArrayInMemorySearch is a document index provided by Docarray that stores documents in memory. It is a great starting point for small datasets, where you may not want to launch a database server.\n"
   ]
  },
  {
   "cell_type": "code",
   "execution_count": 23,
   "metadata": {},
   "outputs": [],
   "source": [
    "csv_file_path = \"../Data/Client.csv\"\n",
    "csv_loader = CSVLoader(file_path=csv_file_path)"
   ]
  },
  {
   "cell_type": "code",
   "execution_count": 13,
   "metadata": {},
   "outputs": [],
   "source": [
    "embedding_model = OpenAIEmbeddings(\n",
    "  api_key=os.getenv(\"OPENAI_API_KEY\"),\n",
    "  model=\"text-embedding-3-small\"\n",
    ")\n",
    "indexed_vectoreStore = VectorstoreIndexCreator(\n",
    "    vectorstore_cls=FAISS,\n",
    "    embedding=embedding_model\n",
    ").from_loaders([csv_loader])"
   ]
  },
  {
   "cell_type": "code",
   "execution_count": 40,
   "metadata": {},
   "outputs": [],
   "source": [
    "query = \"I want to know adresses of all the client named john .\\\n",
    "      Structure the response into a table in markdown and summarize it the content of the generated table \""
   ]
  },
  {
   "cell_type": "code",
   "execution_count": 17,
   "metadata": {},
   "outputs": [
    {
     "data": {
      "text/markdown": [
       "Certainly! Here is the information structured into a table in markdown format:\n",
       "\n",
       "| id_client | Nom  | Prenom | Adresse              |\n",
       "|-----------|------|--------|----------------------|\n",
       "| 60        | Lisa | Smith  | 901 Elm St, Phoenix  |\n",
       "| 50        | Lisa | Taylor |                      |\n",
       "| 70        | Lisa | Johnson| 901 Elm St, Phoenix  |\n",
       "\n",
       "**Summary:**\n",
       "- There are three clients named Lisa.\n",
       "- Out of these three, two clients have the same address: 901 Elm St, Phoenix.\n",
       "- One client named Lisa Taylor does not have an address listed."
      ],
      "text/plain": [
       "<IPython.core.display.Markdown object>"
      ]
     },
     "metadata": {},
     "output_type": "display_data"
    }
   ],
   "source": [
    "base_llm_model = ChatOpenAI(\n",
    "    model=\"gpt-4o\",\n",
    "    api_key=os.getenv(\"OPENAI_API_KEY\")\n",
    ")\n",
    "response = indexed_vectoreStore.query(\n",
    "    llm=base_llm_model,\n",
    "    question=query\n",
    "    )\n",
    "display(Markdown(response))"
   ]
  },
  {
   "cell_type": "markdown",
   "metadata": {},
   "source": [
    "### Step By Step Solution"
   ]
  },
  {
   "cell_type": "code",
   "execution_count": 31,
   "metadata": {},
   "outputs": [
    {
     "data": {
      "text/plain": [
       "[Document(page_content='id_client: 41\\nNom: John\\nPrenom: Doe\\nAdresse: 123 Main St, New York\\nTelephone: 5551234567', metadata={'source': '../Data/Client.csv', 'row': 0}),\n",
       " Document(page_content='id_client: 42\\nNom: Jane\\nPrenom: Smith\\nAdresse: 456 Elm St, Los Angeles\\nTelephone: 5559876543', metadata={'source': '../Data/Client.csv', 'row': 1}),\n",
       " Document(page_content='id_client: 43\\nNom: Michael\\nPrenom: Johnson\\nAdresse: \\nTelephone: 5551112222', metadata={'source': '../Data/Client.csv', 'row': 2}),\n",
       " Document(page_content='id_client: 44\\nNom: Emily\\nPrenom: Williams\\nAdresse: 321 Maple Ln, Houston\\nTelephone: ', metadata={'source': '../Data/Client.csv', 'row': 3}),\n",
       " Document(page_content='id_client: 45\\nNom: Christopher\\nPrenom: \\nAdresse: 654 Cedar Rd, Phoenix\\nTelephone: 5555556666', metadata={'source': '../Data/Client.csv', 'row': 4})]"
      ]
     },
     "execution_count": 31,
     "metadata": {},
     "output_type": "execute_result"
    }
   ],
   "source": [
    "from langchain.document_loaders import CSVLoader\n",
    "csv_loader = CSVLoader(file_path=\"../Data/Client.csv\")\n",
    "\n",
    "loaded_csv_document = csv_loader.load()\n",
    "## Display the first 5 document\n",
    "loaded_csv_document[:5]"
   ]
  },
  {
   "cell_type": "code",
   "execution_count": 32,
   "metadata": {},
   "outputs": [
    {
     "data": {
      "text/plain": [
       "[0.017455831170082092,\n",
       " -0.02263569086790085,\n",
       " -0.003403961891308427,\n",
       " 0.0127999447286129,\n",
       " 0.005284655373543501]"
      ]
     },
     "execution_count": 32,
     "metadata": {},
     "output_type": "execute_result"
    }
   ],
   "source": [
    "## Example how the embedding layer is applied\n",
    "embedding_model.embed_query(\"Hello langchain Community\")[:5]"
   ]
  },
  {
   "cell_type": "code",
   "execution_count": 35,
   "metadata": {},
   "outputs": [
    {
     "data": {
      "text/plain": [
       "[Document(page_content='id_client: 61\\nNom: john\\nPrenom: johnson\\nAdresse: 234 Main St, New York\\nTelephone: 5551234567', metadata={'source': '../Data/Client.csv', 'row': 20}),\n",
       " Document(page_content='id_client: 41\\nNom: John\\nPrenom: Doe\\nAdresse: 123 Main St, New York\\nTelephone: 5551234567', metadata={'source': '../Data/Client.csv', 'row': 0}),\n",
       " Document(page_content='id_client: 51\\nNom: john\\nPrenom: Smith\\nAdresse: 234 Elm St, New York\\nTelephone: 5551234567', metadata={'source': '../Data/Client.csv', 'row': 10}),\n",
       " Document(page_content='id_client: 42\\nNom: Jane\\nPrenom: Smith\\nAdresse: 456 Elm St, Los Angeles\\nTelephone: 5559876543', metadata={'source': '../Data/Client.csv', 'row': 1})]"
      ]
     },
     "execution_count": 35,
     "metadata": {},
     "output_type": "execute_result"
    }
   ],
   "source": [
    "vectoreStoreDatabase = FAISS.from_documents(\n",
    "    loaded_csv_document,\n",
    "    embedding_model\n",
    ")\n",
    "## Result based on similary search methodology\n",
    "fetched_info = vectoreStoreDatabase.similarity_search(\"give me the adresse of all client named john\")\n",
    "fetched_info"
   ]
  },
  {
   "cell_type": "code",
   "execution_count": 38,
   "metadata": {},
   "outputs": [],
   "source": [
    "## Construct a retriever interface from the vectore store database\n",
    "retriever = vectoreStoreDatabase.as_retriever()"
   ]
  },
  {
   "cell_type": "code",
   "execution_count": 39,
   "metadata": {},
   "outputs": [],
   "source": [
    "## Using Stuff Document Methodology\n",
    "question_answer_stuff = RetrievalQA.from_chain_type(\n",
    "    llm=base_llm_model,\n",
    "    chain_type=\"stuff\",\n",
    "    retriever=retriever,\n",
    "    verbose=True\n",
    ")"
   ]
  },
  {
   "cell_type": "code",
   "execution_count": 41,
   "metadata": {},
   "outputs": [
    {
     "name": "stderr",
     "output_type": "stream",
     "text": [
      "c:\\Users\\mehdi\\anaconda3\\envs\\langchain-tuto\\lib\\site-packages\\langchain_core\\_api\\deprecation.py:119: LangChainDeprecationWarning: The method `Chain.run` was deprecated in langchain 0.1.0 and will be removed in 0.3.0. Use invoke instead.\n",
      "  warn_deprecated(\n"
     ]
    },
    {
     "name": "stdout",
     "output_type": "stream",
     "text": [
      "\n",
      "\n",
      "\u001b[1m> Entering new RetrievalQA chain...\u001b[0m\n",
      "\n",
      "\u001b[1m> Finished chain.\u001b[0m\n"
     ]
    },
    {
     "data": {
      "text/markdown": [
       "Here are the addresses of all clients named \"john\":\n",
       "\n",
       "| id_client | Nom  | Prenom | Adresse         |\n",
       "|-----------|------|--------|-----------------|\n",
       "| 61        | john | johnson| 234 Main St, New York |\n",
       "| 51        | john | Smith  | 234 Elm St, New York  |\n",
       "\n",
       "Summary:\n",
       "The table lists the addresses of all clients named \"john.\" There are two clients with this name, one residing at 234 Main St, New York, and the other at 234 Elm St, New York."
      ],
      "text/plain": [
       "<IPython.core.display.Markdown object>"
      ]
     },
     "metadata": {},
     "output_type": "display_data"
    }
   ],
   "source": [
    "response = question_answer_stuff.run(query)\n",
    "display(Markdown(response))"
   ]
  },
  {
   "cell_type": "markdown",
   "metadata": {},
   "source": []
  },
  {
   "cell_type": "code",
   "execution_count": null,
   "metadata": {},
   "outputs": [],
   "source": []
  }
 ],
 "metadata": {
  "kernelspec": {
   "display_name": "langchain-tuto",
   "language": "python",
   "name": "python3"
  },
  "language_info": {
   "codemirror_mode": {
    "name": "ipython",
    "version": 3
   },
   "file_extension": ".py",
   "mimetype": "text/x-python",
   "name": "python",
   "nbconvert_exporter": "python",
   "pygments_lexer": "ipython3",
   "version": "3.10.14"
  }
 },
 "nbformat": 4,
 "nbformat_minor": 2
}
